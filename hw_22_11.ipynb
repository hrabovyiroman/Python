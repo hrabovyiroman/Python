{
 "cells": [
  {
   "cell_type": "markdown",
   "metadata": {
    "toc": true
   },
   "source": [
    "<h1>Table of Contents<span class=\"tocSkip\"></span></h1>\n",
    "<div class=\"toc\"><ul class=\"toc-item\"><li><span><a href=\"#Soring,-searching,-and-counting\" data-toc-modified-id=\"Soring,-searching,-and-counting-1\"><span class=\"toc-item-num\">1&nbsp;&nbsp;</span>Soring, searching, and counting</a></span><ul class=\"toc-item\"><li><span><a href=\"#Sorting\" data-toc-modified-id=\"Sorting-1.1\"><span class=\"toc-item-num\">1.1&nbsp;&nbsp;</span>Sorting</a></span></li><li><span><a href=\"#Searching\" data-toc-modified-id=\"Searching-1.2\"><span class=\"toc-item-num\">1.2&nbsp;&nbsp;</span>Searching</a></span></li><li><span><a href=\"#Counting\" data-toc-modified-id=\"Counting-1.3\"><span class=\"toc-item-num\">1.3&nbsp;&nbsp;</span>Counting</a></span></li></ul></li></ul></div>"
   ]
  },
  {
   "cell_type": "markdown",
   "metadata": {},
   "source": [
    "# Soring, searching, and counting"
   ]
  },
  {
   "cell_type": "code",
   "execution_count": 1,
   "metadata": {},
   "outputs": [],
   "source": [
    "import numpy as np"
   ]
  },
  {
   "cell_type": "markdown",
   "metadata": {},
   "source": [
    "## Sorting"
   ]
  },
  {
   "cell_type": "markdown",
   "metadata": {},
   "source": [
    "Q1. Sort x along the second axis."
   ]
  },
  {
   "cell_type": "code",
   "execution_count": 3,
   "metadata": {},
   "outputs": [
    {
     "name": "stdout",
     "output_type": "stream",
     "text": [
      "[[1 4]\n",
      " [1 3]]\n"
     ]
    }
   ],
   "source": [
    "x = np.array([[1,4],[3,1]])\n",
    "y = np.sort(x, axis = 1)\n",
    "print(y)"
   ]
  },
  {
   "cell_type": "markdown",
   "metadata": {},
   "source": [
    "Q2. Sort pairs of surnames and first names and return their indices. (first by surname, then by name)."
   ]
  },
  {
   "cell_type": "code",
   "execution_count": 4,
   "metadata": {},
   "outputs": [
    {
     "name": "stdout",
     "output_type": "stream",
     "text": [
      "[1 2 0]\n"
     ]
    }
   ],
   "source": [
    "surnames =    ('Hertz',    'Galilei', 'Hertz')\n",
    "first_names = ('Heinrich', 'Galileo', 'Gustav')\n",
    "indices = np.lexsort((first_names, surnames))\n",
    "print(indices)"
   ]
  },
  {
   "cell_type": "markdown",
   "metadata": {},
   "source": [
    "Q3. Get the indices that would sort x along the second axis."
   ]
  },
  {
   "cell_type": "code",
   "execution_count": 5,
   "metadata": {},
   "outputs": [
    {
     "name": "stdout",
     "output_type": "stream",
     "text": [
      "[[0 1]\n",
      " [1 0]]\n"
     ]
    }
   ],
   "source": [
    "x = np.array([[1,4],[3,1]])\n",
    "y = np.argsort(x, axis=1)\n",
    "print(y)"
   ]
  },
  {
   "cell_type": "markdown",
   "metadata": {},
   "source": [
    "Q4. Create an array such that its fifth element would be the same as the element of sorted x, and it divide other elements by their value."
   ]
  },
  {
   "cell_type": "code",
   "execution_count": 6,
   "metadata": {},
   "outputs": [
    {
     "name": "stdout",
     "output_type": "stream",
     "text": [
      "[0.125      0.2               inf 0.25       4.         0.14285714\n",
      " 1.         0.5        0.11111111 0.16666667]\n"
     ]
    },
    {
     "name": "stderr",
     "output_type": "stream",
     "text": [
      "C:\\Users\\User\\AppData\\Local\\Temp\\ipykernel_1996\\3557044158.py:6: RuntimeWarning: divide by zero encountered in divide\n",
      "  y[y != fifth] = y[y != fifth] / x[y != fifth] # divide the other elements of y by their corresponding elements of x\n"
     ]
    }
   ],
   "source": [
    "x = np.random.permutation(10)\n",
    "sorted_x = np.sort(x) # sort x in ascending order\n",
    "fifth = sorted_x[4] # get the fifth element of sorted x\n",
    "y = np.ones(10) # create an array of ones\n",
    "y[4] = fifth # set the fifth element of y to be the same as the fifth element of sorted x\n",
    "y[y != fifth] = y[y != fifth] / x[y != fifth] # divide the other elements of y by their corresponding elements of x\n",
    "print(y)"
   ]
  },
  {
   "cell_type": "markdown",
   "metadata": {},
   "source": [
    "Q5. Create the indices of an array such that its third element would be the same as the element of sorted x, and it divide other elements by their value."
   ]
  },
  {
   "cell_type": "code",
   "execution_count": 8,
   "metadata": {},
   "outputs": [
    {
     "name": "stdout",
     "output_type": "stream",
     "text": [
      "indices : [9 4 5 0 8 1 6 3 2 7]\n"
     ]
    },
    {
     "name": "stderr",
     "output_type": "stream",
     "text": [
      "C:\\Users\\User\\AppData\\Local\\Temp\\ipykernel_1996\\1597092197.py:6: RuntimeWarning: divide by zero encountered in divide\n",
      "  y[y != third] = y[y != third] / x[y != third] # divide the other elements of y by their corresponding elements of x\n"
     ]
    }
   ],
   "source": [
    "x = np.random.permutation(10)\n",
    "sorted_x = np.sort(x) # sort x in ascending order\n",
    "third = sorted_x[2] # get the third element of sorted x\n",
    "y = np.ones(10) # create an array of ones\n",
    "y[2] = third # set the third element of y to be the same as the third element of sorted x\n",
    "y[y != third] = y[y != third] / x[y != third] # divide the other elements of y by their corresponding elements of x\n",
    "indices = np.argsort(y) # get the indices that would sort y in ascending order\n",
    "print(\"indices :\", indices)\n"
   ]
  },
  {
   "cell_type": "markdown",
   "metadata": {},
   "source": [
    "## Searching"
   ]
  },
  {
   "cell_type": "markdown",
   "metadata": {},
   "source": [
    "Q6. Get the maximum and minimum values and their indices of x along the second axis."
   ]
  },
  {
   "cell_type": "code",
   "execution_count": 10,
   "metadata": {},
   "outputs": [
    {
     "name": "stdout",
     "output_type": "stream",
     "text": [
      "x = [[4 7 8 2 3]\n",
      " [5 6 0 9 1]]\n",
      "maximum values = [8 9]\n",
      "max indices = [2 3]\n",
      "minimum values = [2 0]\n",
      "min indices = [3 2]\n"
     ]
    }
   ],
   "source": [
    "x = np.random.permutation(10).reshape(2, 5)\n",
    "max_values = np.max(x, axis=1) \n",
    "max_indices = np.argmax(x, axis=1) \n",
    "min_values = np.min(x, axis=1)\n",
    "min_indices = np.argmin(x, axis=1) \n",
    "print(\"x =\", x)\n",
    "print(\"maximum values =\", max_values)\n",
    "print(\"max indices =\", max_indices)\n",
    "print(\"minimum values =\", min_values)\n",
    "print(\"min indices =\", min_indices)"
   ]
  },
  {
   "cell_type": "markdown",
   "metadata": {},
   "source": [
    "Q7. Get the maximum and minimum values and their indices of x along the second axis, ignoring NaNs."
   ]
  },
  {
   "cell_type": "code",
   "execution_count": 12,
   "metadata": {},
   "outputs": [
    {
     "name": "stdout",
     "output_type": "stream",
     "text": [
      "maximum values ignoring NaNs = [4. 3.]\n",
      "max indices = [1 0]\n",
      "minimum values ignoring NaNs = [4. 2.]\n",
      "min indices = [1 1]\n"
     ]
    }
   ],
   "source": [
    "x = np.array([[np.nan, 4], [3, 2]])\n",
    "max_values = np.nanmax(x, axis=1) \n",
    "max_indices = np.nanargmax(x, axis=1) \n",
    "min_values = np.nanmin(x, axis=1) \n",
    "min_indices = np.nanargmin(x, axis=1) \n",
    "print(\"maximum values ignoring NaNs =\", max_values)\n",
    "print(\"max indices =\", max_indices)\n",
    "print(\"minimum values ignoring NaNs =\", min_values)\n",
    "print(\"min indices =\", min_indices)"
   ]
  },
  {
   "cell_type": "markdown",
   "metadata": {},
   "source": [
    "Q8. Get the values and indices of the elements that are bigger than 2 in x.\n"
   ]
  },
  {
   "cell_type": "code",
   "execution_count": 13,
   "metadata": {},
   "outputs": [
    {
     "name": "stdout",
     "output_type": "stream",
     "text": [
      "Values bigger than 2 = [3 3 5]\n",
      "Their indices are  (array([0, 1, 1], dtype=int64), array([2, 1, 2], dtype=int64))\n"
     ]
    }
   ],
   "source": [
    "x = np.array([[1, 2, 3], [1, 3, 5]])\n",
    "condition = x > 2\n",
    "indices = np.where(condition) \n",
    "values = x[indices] \n",
    "print(\"Values bigger than 2 =\", values)\n",
    "print(\"Their indices are \", indices)"
   ]
  },
  {
   "cell_type": "markdown",
   "metadata": {},
   "source": [
    "Q9. Get the indices of the elements that are bigger than 2 in the flattend x."
   ]
  },
  {
   "cell_type": "code",
   "execution_count": 14,
   "metadata": {},
   "outputs": [
    {
     "name": "stdout",
     "output_type": "stream",
     "text": [
      "[1 2 3 1 3 5]\n"
     ]
    }
   ],
   "source": [
    "x = np.array([[1, 2, 3], [1, 3, 5]])\n",
    "flat_x = np.ravel(x) \n",
    "print(flat_x)"
   ]
  },
  {
   "cell_type": "markdown",
   "metadata": {},
   "source": [
    "Q10. Check the elements of x and return 0 if it is less than 0, otherwise the element itself."
   ]
  },
  {
   "cell_type": "code",
   "execution_count": 15,
   "metadata": {},
   "outputs": [
    {
     "name": "stdout",
     "output_type": "stream",
     "text": [
      "[[0 0 0]\n",
      " [0 0 0]\n",
      " [1 2 3]]\n"
     ]
    }
   ],
   "source": [
    "x = np.arange(-5, 4).reshape(3, 3)\n",
    "y = np.where(x < 0, 0, x)\n",
    "print(y)"
   ]
  },
  {
   "cell_type": "markdown",
   "metadata": {},
   "source": [
    "Q11. Get the indices where elements of y should be inserted to x to maintain order."
   ]
  },
  {
   "cell_type": "code",
   "execution_count": 21,
   "metadata": {},
   "outputs": [
    {
     "name": "stdout",
     "output_type": "stream",
     "text": [
      "[0 2 1 3]\n"
     ]
    }
   ],
   "source": [
    "x = [1, 3, 5, 7, 9]\n",
    "y = [0, 4, 2, 6]\n",
    "indices = np.searchsorted(x, y, ) \n",
    "print(indices )"
   ]
  },
  {
   "cell_type": "markdown",
   "metadata": {},
   "source": [
    "## Counting"
   ]
  },
  {
   "cell_type": "markdown",
   "metadata": {},
   "source": [
    "Q12. Get the number of nonzero elements in x."
   ]
  },
  {
   "cell_type": "code",
   "execution_count": 22,
   "metadata": {},
   "outputs": [
    {
     "name": "stdout",
     "output_type": "stream",
     "text": [
      "5\n"
     ]
    }
   ],
   "source": [
    "x = [[0,1,7,0,0],[3,0,0,2,19]]\n",
    "y = np.count_nonzero(x) \n",
    "print(y)"
   ]
  }
 ],
 "metadata": {
  "kernelspec": {
   "display_name": "Python 3 (ipykernel)",
   "language": "python",
   "name": "python3"
  },
  "language_info": {
   "codemirror_mode": {
    "name": "ipython",
    "version": 3
   },
   "file_extension": ".py",
   "mimetype": "text/x-python",
   "name": "python",
   "nbconvert_exporter": "python",
   "pygments_lexer": "ipython3",
   "version": "3.11.5"
  },
  "toc": {
   "base_numbering": 1,
   "nav_menu": {},
   "number_sections": true,
   "sideBar": true,
   "skip_h1_title": false,
   "title_cell": "Table of Contents",
   "title_sidebar": "Contents",
   "toc_cell": true,
   "toc_position": {},
   "toc_section_display": true,
   "toc_window_display": true
  }
 },
 "nbformat": 4,
 "nbformat_minor": 1
}
