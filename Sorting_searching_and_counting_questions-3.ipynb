{
 "cells": [
  {
   "cell_type": "markdown",
   "metadata": {
    "toc": true
   },
   "source": [
    "<h1>Table of Contents<span class=\"tocSkip\"></span></h1>\n",
    "<div class=\"toc\"><ul class=\"toc-item\"><li><span><a href=\"#Soring,-searching,-and-counting\" data-toc-modified-id=\"Soring,-searching,-and-counting-1\"><span class=\"toc-item-num\">1&nbsp;&nbsp;</span>Soring, searching, and counting</a></span><ul class=\"toc-item\"><li><span><a href=\"#Sorting\" data-toc-modified-id=\"Sorting-1.1\"><span class=\"toc-item-num\">1.1&nbsp;&nbsp;</span>Sorting</a></span></li><li><span><a href=\"#Searching\" data-toc-modified-id=\"Searching-1.2\"><span class=\"toc-item-num\">1.2&nbsp;&nbsp;</span>Searching</a></span></li><li><span><a href=\"#Counting\" data-toc-modified-id=\"Counting-1.3\"><span class=\"toc-item-num\">1.3&nbsp;&nbsp;</span>Counting</a></span></li></ul></li></ul></div>"
   ]
  },
  {
   "cell_type": "markdown",
   "metadata": {},
   "source": [
    "# Soring, searching, and counting"
   ]
  },
  {
   "cell_type": "code",
   "execution_count": 3,
   "metadata": {},
   "outputs": [],
   "source": [
    "import numpy"
   ]
  },
  {
   "cell_type": "code",
   "execution_count": 4,
   "metadata": {},
   "outputs": [],
   "source": [
    "import numpy as np"
   ]
  },
  {
   "cell_type": "markdown",
   "metadata": {},
   "source": [
    "## Sorting"
   ]
  },
  {
   "cell_type": "markdown",
   "metadata": {},
   "source": [
    "Q1. Sort x along the second axis.\n",
    "(Відсортуйте x уздовж другої осі.)"
   ]
  },
  {
   "cell_type": "code",
   "execution_count": 5,
   "metadata": {},
   "outputs": [
    {
     "name": "stdout",
     "output_type": "stream",
     "text": [
      "[[1 4]\n",
      " [1 3]]\n"
     ]
    }
   ],
   "source": [
    "x = np.array([[1,4],[3,1]])\n",
    "sort_x = np.sort(x, axis=1)\n",
    "print(sort_x)"
   ]
  },
  {
   "cell_type": "markdown",
   "metadata": {},
   "source": [
    "Q2. Sort pairs of surnames and first names and return their indices. (first by surname, then by name).\n",
    "(Відсортуйте пари прізвищ та імен і поверніть їхні індекси. (спочатку по прізвищу, потім по імені).)"
   ]
  },
  {
   "cell_type": "code",
   "execution_count": 6,
   "metadata": {},
   "outputs": [
    {
     "name": "stdout",
     "output_type": "stream",
     "text": [
      "[1 2 0]\n"
     ]
    }
   ],
   "source": [
    "surnames =    ('Hertz',    'Galilei', 'Hertz')\n",
    "first_names = ('Heinrich', 'Galileo', 'Gustav')\n",
    "result = np.lexsort((first_names, surnames))\n",
    "print(result)"
   ]
  },
  {
   "cell_type": "markdown",
   "metadata": {},
   "source": [
    "Q3. Get the indices that would sort x along the second axis. (Отримайте індекси, які б сортували x уздовж другої осі.)"
   ]
  },
  {
   "cell_type": "code",
   "execution_count": 64,
   "metadata": {},
   "outputs": [
    {
     "name": "stdout",
     "output_type": "stream",
     "text": [
      "[[0 1]\n",
      " [1 0]]\n"
     ]
    }
   ],
   "source": [
    "x = np.array([[1,4],[3,1]])\n",
    "result = np.argsort(x, axis=1)\n",
    "print(result)"
   ]
  },
  {
   "cell_type": "markdown",
   "metadata": {},
   "source": [
    "Q4. Create an array such that its fifth element would be the same as the element of sorted x, and it divide other elements by their value. (Створіть такий масив, щоб його п’ятий елемент був таким самим, як і елемент відсортованого x, а інші елементи розділив на їх значення.)"
   ]
  },
  {
   "cell_type": "code",
   "execution_count": 77,
   "metadata": {},
   "outputs": [
    {
     "name": "stdout",
     "output_type": "stream",
     "text": [
      "x =  [0 5 6 2 4 7 1 9 8 3]\n",
      "result =  [3 3 3 3 4 5 5 5 5 5]\n"
     ]
    }
   ],
   "source": [
    "x = np.random.permutation(10)\n",
    "\n",
    "sorted_value = np.sort(x)[4]\n",
    "\n",
    "result = np.zeros_like(x)\n",
    "result[4] = sorted_value\n",
    "\n",
    "result[:4] = result[4] - 1 \n",
    "result[5:] = result[4] + 1  \n",
    "\n",
    "print(\"x = \", x)\n",
    "print(\"result = \", result)\n",
    "\n"
   ]
  },
  {
   "cell_type": "markdown",
   "metadata": {},
   "source": [
    "Q5. Create the indices of an array such that its third element would be the same as the element of sorted x, and it divide other elements by their value.(Створіть індекси масиву так, щоб його третій елемент збігався з елементом відсортованого x, а інші елементи розділив на їх значення.)"
   ]
  },
  {
   "cell_type": "code",
   "execution_count": 78,
   "metadata": {},
   "outputs": [
    {
     "name": "stdout",
     "output_type": "stream",
     "text": [
      "x =  [6 2 9 8 4 0 5 1 3 7]\n",
      "result =  [3 2 1 0 4 1 2 3 4 5]\n"
     ]
    }
   ],
   "source": [
    "x = np.random.permutation(10)\n",
    "\n",
    "sorted_value = np.sort(x)[4]\n",
    "\n",
    "result = np.zeros_like(x)\n",
    "result[4] = sorted_value\n",
    "result[:4] = np.arange(4)[::-1] \n",
    "result[5:] = np.arange(1, 6)  \n",
    "\n",
    "print(\"x = \", x)\n",
    "print(\"result = \", result)"
   ]
  },
  {
   "cell_type": "markdown",
   "metadata": {},
   "source": [
    "## Searching"
   ]
  },
  {
   "cell_type": "markdown",
   "metadata": {},
   "source": [
    "Q6. Get the maximum and minimum values and their indices of x along the second axis. (Отримайте максимальне та мінімальне значення та їхні індекси x уздовж другої осі.)"
   ]
  },
  {
   "cell_type": "code",
   "execution_count": 79,
   "metadata": {},
   "outputs": [
    {
     "name": "stdout",
     "output_type": "stream",
     "text": [
      "x =  [[9 4 2 3 8]\n",
      " [7 5 6 1 0]]\n",
      "maximum values =  [9 7]\n",
      "max indices: [0 0]\n",
      "minimum values =  [2 0]\n",
      "min indices: [2 4]\n"
     ]
    }
   ],
   "source": [
    "x = np.random.permutation(10).reshape(2, 5)\n",
    "\n",
    "max_values = np.max(x, axis=1)\n",
    "max_indices = np.argmax(x, axis=1)\n",
    "\n",
    "\n",
    "min_values = np.min(x, axis=1)\n",
    "min_indices = np.argmin(x, axis=1)\n",
    "\n",
    "print(\"x = \", x)\n",
    "print(\"maximum values = \", max_values)\n",
    "print(\"max indices:\", max_indices)\n",
    "print(\"minimum values = \", min_values)\n",
    "print(\"min indices:\", min_indices)\n",
    "\n"
   ]
  },
  {
   "cell_type": "markdown",
   "metadata": {},
   "source": [
    "Q7. Get the maximum and minimum values and their indices of x along the second axis, ignoring NaNs.\n",
    "(Отримайте максимальне та мінімальне значення та їхні індекси x уздовж другої осі, ігноруючи NaN.)"
   ]
  },
  {
   "cell_type": "code",
   "execution_count": 80,
   "metadata": {},
   "outputs": [
    {
     "name": "stdout",
     "output_type": "stream",
     "text": [
      "maximum values ignoring NaNs: [4. 3.]\n",
      "max indices: [1 0]\n",
      "minimum values ignoring NaNs: [4. 2.]\n",
      "min indices: [1 1]\n"
     ]
    }
   ],
   "source": [
    "x = np.array([[np.nan, 4], [3, 2]])\n",
    "\n",
    "max_values = np.nanmax(x, axis=1)\n",
    "max_indices = np.nanargmax(x, axis=1)\n",
    "\n",
    "min_values = np.nanmin(x, axis=1)\n",
    "min_indices = np.nanargmin(x, axis=1)\n",
    "\n",
    "print(\"maximum values ignoring NaNs:\", max_values)\n",
    "print(\"max indices:\", max_indices)\n",
    "print(\"minimum values ignoring NaNs:\", min_values)\n",
    "print(\"min indices:\", min_indices)\n"
   ]
  },
  {
   "cell_type": "markdown",
   "metadata": {},
   "source": [
    "Q8. Get the values and indices of the elements that are bigger than 2 in x.\n",
    "(Отримайте значення та індекси елементів, які більші за 2 у x.)"
   ]
  },
  {
   "cell_type": "code",
   "execution_count": 81,
   "metadata": {},
   "outputs": [
    {
     "name": "stdout",
     "output_type": "stream",
     "text": [
      "values bigger than 2 = [3 3 5]\n",
      "their indices are (array([0, 1, 1]), array([2, 1, 2]))\n"
     ]
    }
   ],
   "source": [
    "x = np.array([[1, 2, 3], [1, 3, 5]])\n",
    "values = x[x > 2]\n",
    "indices = np.where(x > 2)\n",
    "\n",
    "print(\"values bigger than 2 =\", values)\n",
    "print(\"their indices are\", indices)"
   ]
  },
  {
   "cell_type": "markdown",
   "metadata": {},
   "source": [
    " Q9. Get the indices of the elements that are bigger than 2 in the flattend x.\n",
    " (Отримайте індекси елементів, які більші за 2 у flattend x.)"
   ]
  },
  {
   "cell_type": "code",
   "execution_count": 93,
   "metadata": {},
   "outputs": [
    {
     "name": "stdout",
     "output_type": "stream",
     "text": [
      "[0 1 2 3 4 5]\n"
     ]
    }
   ],
   "source": [
    "x = np.array([[1, 2, 3], [1, 3, 5]])\n",
    "\n",
    "flattened_x = x.flatten()\n",
    "\n",
    "all_indices = np.arange(len(flattened_x))\n",
    "\n",
    "print(all_indices)\n"
   ]
  },
  {
   "cell_type": "markdown",
   "metadata": {},
   "source": [
    "Q10. Check the elements of x and return 0 if it is less than 0, otherwise the element itself.\n",
    "(Перевірте елементи x і поверніть 0, якщо він менший за 0, інакше сам елемент.)"
   ]
  },
  {
   "cell_type": "code",
   "execution_count": 39,
   "metadata": {},
   "outputs": [
    {
     "name": "stdout",
     "output_type": "stream",
     "text": [
      "[[0 0 0]\n",
      " [0 0 0]\n",
      " [1 2 3]]\n"
     ]
    }
   ],
   "source": [
    "x = np.arange(-5, 4).reshape(3, 3)\n",
    "\n",
    "result = np.where(x < 0, 0, x)\n",
    "print(result)"
   ]
  },
  {
   "cell_type": "markdown",
   "metadata": {},
   "source": [
    "Q11. Get the indices where elements of y should be inserted to x to maintain order.\n",
    "(Отримайте індекси, де елементи y повинні бути вставлені в x для підтримки порядку.)"
   ]
  },
  {
   "cell_type": "code",
   "execution_count": 40,
   "metadata": {},
   "outputs": [
    {
     "data": {
      "text/plain": [
       "array([0, 2, 1, 3])"
      ]
     },
     "execution_count": 40,
     "metadata": {},
     "output_type": "execute_result"
    }
   ],
   "source": [
    "x = [1, 3, 5, 7, 9]\n",
    "y = [0, 4, 2, 6]\n",
    "\n",
    "result = np.searchsorted(x, y)\n",
    "result"
   ]
  },
  {
   "cell_type": "markdown",
   "metadata": {},
   "source": [
    "## Counting"
   ]
  },
  {
   "cell_type": "markdown",
   "metadata": {},
   "source": [
    "Q12. Get the number of nonzero elements in x. \n",
    "( Отримайте кількість ненульових елементів у x. )"
   ]
  },
  {
   "cell_type": "code",
   "execution_count": 41,
   "metadata": {},
   "outputs": [
    {
     "name": "stdout",
     "output_type": "stream",
     "text": [
      "5\n"
     ]
    }
   ],
   "source": [
    "x = [[0,1,7,0,0],[3,0,0,2,19]]\n",
    "\n",
    "count = np.count_nonzero(x)\n",
    "print(count)"
   ]
  },
  {
   "cell_type": "code",
   "execution_count": null,
   "metadata": {
    "collapsed": true
   },
   "outputs": [],
   "source": []
  }
 ],
 "metadata": {
  "kernelspec": {
   "display_name": "Python 3 (ipykernel)",
   "language": "python",
   "name": "python3"
  },
  "language_info": {
   "codemirror_mode": {
    "name": "ipython",
    "version": 3
   },
   "file_extension": ".py",
   "mimetype": "text/x-python",
   "name": "python",
   "nbconvert_exporter": "python",
   "pygments_lexer": "ipython3",
   "version": "3.10.9"
  },
  "toc": {
   "base_numbering": 1,
   "nav_menu": {},
   "number_sections": true,
   "sideBar": true,
   "skip_h1_title": false,
   "title_cell": "Table of Contents",
   "title_sidebar": "Contents",
   "toc_cell": true,
   "toc_position": {},
   "toc_section_display": true,
   "toc_window_display": true
  }
 },
 "nbformat": 4,
 "nbformat_minor": 1
}
